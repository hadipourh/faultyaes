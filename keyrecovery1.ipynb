{
 "cells": [
  {
   "cell_type": "markdown",
   "metadata": {},
   "source": [
    "# Multiple Persisten Faults Attack - Key Recovery"
   ]
  },
  {
   "cell_type": "markdown",
   "metadata": {},
   "source": [
    "## License\n",
    "\n",
    "```\n",
    "Copyright (C) 2021  Hosein Hadipour\n",
    "This program is free software: you can redistribute it and/or modify\n",
    "it under the terms of the GNU General Public License as published by\n",
    "the Free Software Foundation, either version 3 of the License, or\n",
    "(at your option) any later version.\n",
    "This program is distributed in the hope that it will be useful,\n",
    "but WITHOUT ANY WARRANTY; without even the implied warranty of\n",
    "MERCHANTABILITY or FITNESS FOR A PARTICULAR PURPOSE.  See the\n",
    "GNU General Public License for more details.\n",
    "You should have received a copy of the GNU General Public License\n",
    "along with this program.  If not, see <http://www.gnu.org/licenses/>.\n",
    "```"
   ]
  },
  {
   "cell_type": "markdown",
   "metadata": {},
   "source": [
    "## Include Faulty AES and Other Required Tools"
   ]
  },
  {
   "cell_type": "code",
   "execution_count": 1,
   "metadata": {},
   "outputs": [],
   "source": [
    "%load_ext autoreload\n",
    "%autoreload 2\n",
    "from faultyaes import *\n",
    "import numpy as np\n",
    "from statistics import mean, variance\n",
    "import random\n",
    "import itertools\n",
    "import time"
   ]
  },
  {
   "cell_type": "markdown",
   "metadata": {},
   "source": [
    "### Check to see whether the `derive_round_keys_from_last_round_key` function works correctly"
   ]
  },
  {
   "cell_type": "code",
   "execution_count": 2,
   "metadata": {},
   "outputs": [
    {
     "name": "stdout",
     "output_type": "stream",
     "text": [
      "derive_round_keys_from_last_round_key` works correctly :-)\n"
     ]
    }
   ],
   "source": [
    "master_key = 0x2B7E151628AED2A6ABF7158809CF4F3C\n",
    "plaintext = 0x6BC1BEE22E409F96E93D7E117393172A\n",
    "expected_ciphertext = 0x3AD77BB40D7A3660A89ECAF32466EF97\n",
    "faulty_aes = AES(master_key)\n",
    "faulty_aes.apply_fault(number_of_faults=0)\n",
    "last_round_key = faulty_aes.round_keys[4*10:4*11]\n",
    "faulty_aes.derive_round_keys_from_last_round_key(last_round_key)\n",
    "ciphertext = faulty_aes.encrypt(plaintext)\n",
    "if ciphertext == expected_ciphertext:\n",
    "    print(\"derive_round_keys_from_last_round_key` works correctly :-)\")\n",
    "else:\n",
    "    print(\"derive_round_keys_from_last_round_key` doesn't work correctly :-)\")"
   ]
  },
  {
   "cell_type": "markdown",
   "metadata": {},
   "source": [
    "### Run `faulty_aes.decrypt_and_count` for test"
   ]
  },
  {
   "cell_type": "code",
   "execution_count": 3,
   "metadata": {},
   "outputs": [
    {
     "name": "stdout",
     "output_type": "stream",
     "text": [
      "cnt = 9\n"
     ]
    }
   ],
   "source": [
    "cnt = faulty_aes.decrypt_and_count1(ciphertext=ciphertext, Vi=[])\n",
    "print(\"cnt = %d\" % cnt)"
   ]
  },
  {
   "cell_type": "markdown",
   "metadata": {},
   "source": [
    "## Experiment 1\n",
    "In this experiment we aim to implement the key recovery algorithm (algorithm 3) to see how it works in reality"
   ]
  },
  {
   "cell_type": "markdown",
   "metadata": {},
   "source": [
    "### Generate Candidates for delta"
   ]
  },
  {
   "cell_type": "code",
   "execution_count": 4,
   "metadata": {},
   "outputs": [],
   "source": [
    "def generate_data(number_of_faults=2, bias=800):\n",
    "    m = 2**8 - number_of_faults\n",
    "    expected_number_of_queries = int(np.ceil((m*harmonic_number(m))))\n",
    "    number_of_random_plaintexts = expected_number_of_queries + bias\n",
    "    produced_ciphertexts = []\n",
    "    reference_set = set(list(range(256)))\n",
    "    ##################################################################\n",
    "    # Initialize a faulty AES for this experiment\n",
    "    observed_bytes = [[[] for _ in range(4)] for _ in range(4)]\n",
    "    non_observed_bytes = [[[] for _ in range(4)] for _ in range(4)]\n",
    "    master_key = random.getrandbits(128)\n",
    "    faulty_aes = AES(master_key)\n",
    "    last_round_key = faulty_aes.round_keys[4*10:4*11]\n",
    "    last_round_key = [last_round_key[j][i] for j in range(4) for i in range(4)]\n",
    "    faulty_aes.apply_fault(number_of_faults)\n",
    "    known_ciphertexts = []\n",
    "    for this_query in range(number_of_random_plaintexts):\n",
    "        # Choose a plaintext at random\n",
    "        plaintext = random.getrandbits(128)\n",
    "        ciphertext = faulty_aes.encrypt(plaintext)\n",
    "        known_ciphertexts.append(ciphertext)\n",
    "        ciphertext = text2matrix(ciphertext)\n",
    "        for col in range(4):\n",
    "            for row in range(4):\n",
    "                observed_bytes[col][row].append(ciphertext[col][row])\n",
    "    for col in range(4):\n",
    "        for row in range(4):\n",
    "            observed = set(observed_bytes[col][row])\n",
    "            non_observed_bytes[col][row] = list(reference_set.difference(observed))\n",
    "    ##################################################################\n",
    "    #print(\"Expected number of queries: %d, bias: %d\" % (expect_number_of_queries, bias))\n",
    "    D = [[] for _ in range(16)]\n",
    "    for col in range(4):\n",
    "        for row in range(4):\n",
    "            j = 4*col + row\n",
    "            D[j] = non_observed_bytes[col][row]\n",
    "    return known_ciphertexts, D, faulty_aes.dictionary_of_replacement, last_round_key"
   ]
  },
  {
   "cell_type": "markdown",
   "metadata": {},
   "source": [
    "### Implement Algorithm 2: Find deltaj = skR0 + skRj For Limited Number of Given Ciphertexts"
   ]
  },
  {
   "cell_type": "code",
   "execution_count": 5,
   "metadata": {},
   "outputs": [],
   "source": [
    "def find_delta_candidates(D0, Dj, number_of_faults):    \n",
    "    lambda_prime = len(Dj)\n",
    "    lambda_prime_zero = len(D0)\n",
    "    final_candidates = []\n",
    "    for k in range(lambda_prime_zero - number_of_faults + 1): # Iterating up to this number ensures a non-empty output\n",
    "        candidates = []\n",
    "        delta_counters = dict()\n",
    "        for ell in range(lambda_prime):\n",
    "            alpha_l = D0[k] ^ Dj[ell]\n",
    "            delta_counters[alpha_l] = 1\n",
    "            Dtemp = set(Dj).difference(set([Dj[ell]]))\n",
    "            D0_complement = [d for d in D0 if d != D0[k]]\n",
    "            for d in D0_complement:\n",
    "                E = d ^ alpha_l\n",
    "                if E in Dtemp:\n",
    "                    delta_counters[alpha_l] += 1                    \n",
    "                    Dtemp = Dtemp.difference(set([E]))\n",
    "        candidates = [delta for delta in delta_counters.keys() if delta_counters[delta] >= number_of_faults]\n",
    "        final_candidates.extend(candidates)\n",
    "        final_candidates = list(set(final_candidates))\n",
    "    return final_candidates"
   ]
  },
  {
   "cell_type": "markdown",
   "metadata": {},
   "source": [
    "### Run `generate_data` for test"
   ]
  },
  {
   "cell_type": "code",
   "execution_count": 6,
   "metadata": {},
   "outputs": [
    {
     "name": "stdout",
     "output_type": "stream",
     "text": [
      "Computed delta3: [233, 126]\n",
      "skR[0] xor skR[3]: 126\n"
     ]
    }
   ],
   "source": [
    "nf = 4\n",
    "position = 3\n",
    "bias = -500\n",
    "known_ciphertexts, D, fault_mapping, last_round_key = generate_data(number_of_faults=nf, bias=bias)\n",
    "output = find_delta_candidates(D[0], D[position], number_of_faults=nf)\n",
    "print(\"Computed delta%d: %s\" % (position, output))\n",
    "print(\"skR[0] xor skR[%d]: %d\" % (position, last_round_key[0] ^ last_round_key[position]))"
   ]
  },
  {
   "cell_type": "markdown",
   "metadata": {},
   "source": [
    "### Collect Candidates for (K, V)\n",
    "In this experiment we guess the first byte of last round key and determine the remaining key bytes based on the derived candidates for deltaj (where 1 <= j <= 15). \n",
    "\n",
    "\n",
    "Let `D[0] = {d_0, d_1, d_2, ..., d_lambda0}`, then for each key candidate Ki we derive the corresponding set of impossible values according to the following relations:\n",
    "\n",
    "```\n",
    "V = {d_0 + Ki[0], d_1 + Ki[0], ..., d_lambda0 + Ki[0]}\n",
    "```\n",
    "Note that it is oly the first byte of Ki, and the set `D[0]` that are used to derive the corresponding set of impossible values, i.e., Vi.\n",
    "In summary, for each key guess, we have a corresponding set of impossible values which is denoted by Vi. "
   ]
  },
  {
   "cell_type": "code",
   "execution_count": 7,
   "metadata": {},
   "outputs": [],
   "source": [
    "def generate_candidates_k_v(nf, bias):\n",
    "    known_ciphertexts, D, fault_mapping, last_round_key = generate_data(number_of_faults=nf, bias=bias)\n",
    "    delta_candidates = []\n",
    "    for position in range(16):\n",
    "        deltaj = find_delta_candidates(D[0], D[position], number_of_faults=nf)\n",
    "        delta_candidates.append(deltaj)    \n",
    "    all_possible_delta_vectors = list(itertools.product(*delta_candidates))\n",
    "    k_v_candidates = dict()\n",
    "    for sk0 in range(0, 256):\n",
    "        for delta_vector in all_possible_delta_vectors:\n",
    "            # print(\"Delta vector: %s\" % [delta for delta in delta_vector])\n",
    "            k_v_candidates[tuple([sk0 ^ delta for delta in delta_vector])] = [sk0 ^ d for d in D[0]]\n",
    "    return known_ciphertexts, k_v_candidates, last_round_key, fault_mapping"
   ]
  },
  {
   "cell_type": "markdown",
   "metadata": {},
   "source": [
    "## Key Recovery"
   ]
  },
  {
   "cell_type": "code",
   "execution_count": 8,
   "metadata": {},
   "outputs": [],
   "source": [
    "# bias = 100\n",
    "# nf = 4\n",
    "# start_time = time.time()\n",
    "# print(\"Running a faulty AES with %d faults to generate some random ciphertexts ...\" % nf)\n",
    "# known_ciphertexts, k_v_candidates, last_round_key, fault_mapping = generate_candidates_k_v(nf, bias)\n",
    "# elapsed_time = time.time() - start_time\n",
    "# print(\"Known ciphertexts were generated after %0.2f seconds.\" % elapsed_time)\n",
    "# print(\"Number of known ciphertexts: %d\" % len(known_ciphertexts))\n",
    "# print(\"Number of (K, V) candidates: %d\" % len(k_v_candidates.keys()))\n",
    "# counter_Ki_Vi = dict()\n",
    "# counters = [0]*len(list(k_v_candidates.keys()))\n",
    "# aes_instance = AES(0)\n",
    "# aes_instance.apply_fault(number_of_faults=nf, fault_mapping=fault_mapping)\n",
    "# start_time = time.time()\n",
    "# print(\"----------------- START KEY RECOVERY -----------------\")\n",
    "# for Ki in k_v_candidates.keys():\n",
    "#     counter_Ki_Vi[Ki] = 0\n",
    "#     Ki_matrix = [[Ki[i + 4*j] for i in range(4)] for j in range(4)]\n",
    "#     aes_instance.derive_round_keys_from_last_round_key(Ki_matrix)\n",
    "#     for this_cipher in known_ciphertexts:\n",
    "#         counter_Ki_Vi[Ki] += aes_instance.decrypt_and_count(this_cipher, k_v_candidates[Ki])\n",
    "# max_cnt = max(counter_Ki_Vi.values())\n",
    "# derived_keys = [K for K in counter_Ki_Vi.keys() if counter_Ki_Vi[K] == max_cnt]\n",
    "# elapsed_time = time.time() - start_time\n",
    "# print(\"Time used by key recovery: %0.2f Seconds\" % elapsed_time)\n",
    "# print(\"------------- KEY RECOVERY WAS FINISHED -------------\")\n",
    "# print(\"Derived (last-round) key(s):\")\n",
    "# for K in derived_keys:\n",
    "#     print(\"%s,\\t counter: %d\" % (K, counter_Ki_Vi[K]))\n",
    "# print(\"True (last-round) key:\\n%s\" % last_round_key)"
   ]
  },
  {
   "cell_type": "code",
   "execution_count": 9,
   "metadata": {},
   "outputs": [],
   "source": [
    "# print(\"Correct key's counter: %d\" % max_cnt)\n",
    "# counters = list(counter_Ki_Vi.values())\n",
    "# counters.remove(max_cnt)\n",
    "# mean_of_wrong_counters = np.mean(counters)\n",
    "# print(\"Mean of wrong keys' counter: %0.2f\" % mean_of_wrong_counters)"
   ]
  },
  {
   "cell_type": "markdown",
   "metadata": {},
   "source": [
    "## Computing Average Values for Key Recovery Parameters"
   ]
  },
  {
   "cell_type": "code",
   "execution_count": 10,
   "metadata": {},
   "outputs": [],
   "source": [
    "def generate_input_data_for_key_recovery(number_of_faults, number_of_known_ciphertexts):\n",
    "    reference_set = set(list(range(256)))\n",
    "    ##################################################################\n",
    "    # Initialize a faulty AES for this experiment\n",
    "    observed_bytes = [[[] for _ in range(4)] for _ in range(4)]\n",
    "    non_observed_bytes = [[[] for _ in range(4)] for _ in range(4)]\n",
    "    master_key = random.getrandbits(128)\n",
    "    faulty_aes = AES(master_key)\n",
    "    last_round_key = faulty_aes.round_keys[4*10:4*11]\n",
    "    last_round_key = [last_round_key[j][i] for j in range(4) for i in range(4)]\n",
    "    faulty_aes.apply_fault(number_of_faults)\n",
    "    fault_mapping = faulty_aes.dictionary_of_replacement\n",
    "    known_ciphertexts = []\n",
    "    for this_query in range(number_of_known_ciphertexts):\n",
    "        # Choose a plaintext at random\n",
    "        plaintext = random.getrandbits(128)\n",
    "        ciphertext = faulty_aes.encrypt(plaintext)\n",
    "        known_ciphertexts.append(ciphertext)\n",
    "        ciphertext = text2matrix(ciphertext)\n",
    "        for col in range(4):\n",
    "            for row in range(4):\n",
    "                observed_bytes[col][row].append(ciphertext[col][row])\n",
    "    for col in range(4):\n",
    "        for row in range(4):\n",
    "            observed = set(observed_bytes[col][row])\n",
    "            non_observed_bytes[col][row] = list(reference_set.difference(observed))\n",
    "    ##################################################################\n",
    "    D = [[] for _ in range(16)]\n",
    "    for col in range(4):\n",
    "        for row in range(4):\n",
    "            j = 4*col + row\n",
    "            D[j] = non_observed_bytes[col][row]\n",
    "    delta_candidates = []\n",
    "    for position in range(16):\n",
    "        deltaj = find_delta_candidates(D[0], D[position], number_of_faults=number_of_faults)\n",
    "        delta_candidates.append(deltaj)\n",
    "    all_possible_delta_vectors = list(itertools.product(*delta_candidates))\n",
    "    k_v_candidates = dict()\n",
    "    for sk0 in range(0, 256):\n",
    "        for delta_vector in all_possible_delta_vectors:\n",
    "            k_v_candidates[tuple([sk0 ^ delta for delta in delta_vector])] = [sk0 ^ d for d in D[0]]\n",
    "    return known_ciphertexts, k_v_candidates, last_round_key, fault_mapping, D"
   ]
  },
  {
   "cell_type": "code",
   "execution_count": 11,
   "metadata": {},
   "outputs": [],
   "source": [
    "# known_ciphertexts, k_v_candidates, last_round_key, fault_mapping, D \\\n",
    "#                 = generate_input_data_for_key_recovery(3, 1500)\n",
    "# print(D)"
   ]
  },
  {
   "cell_type": "code",
   "execution_count": 12,
   "metadata": {},
   "outputs": [],
   "source": [
    "def compute_avg_cnt_for_wrong_and_correct_keys(number_of_faults=4, number_of_independent_experiments=100):\n",
    "    m = 256 - number_of_faults\n",
    "    number_of_known_ciphertexts = int(np.ceil(m*harmonic_number(m)))\n",
    "    number_of_derived_keys = []\n",
    "    cnt_of_correct_keys = []\n",
    "    all_cnt_of_wrong_keys = []\n",
    "    true_and_retrievd_last_round_keys = dict()\n",
    "    for nxp in range(number_of_independent_experiments):\n",
    "        D = [[]]\n",
    "        while len(D[0]) != number_of_faults:\n",
    "            known_ciphertexts, k_v_candidates, last_round_key, fault_mapping, D \\\n",
    "                = generate_input_data_for_key_recovery(number_of_faults, number_of_known_ciphertexts)\n",
    "        counter_Ki_Vi = dict()\n",
    "        aes_instance = AES(0)\n",
    "        aes_instance.apply_fault(number_of_faults=number_of_faults, fault_mapping=fault_mapping)\n",
    "        number_of_candidates = len(k_v_candidates.keys())\n",
    "        print(\"Number of faults: %d, Number of known ciphertexts: %d, Number of key candidates: %d\" %\\\n",
    "             (number_of_faults, len(known_ciphertexts), number_of_candidates))\n",
    "        print(\"----------------- START KEY RECOVERY -----------------\")\n",
    "        progress_bar = 0\n",
    "        start_time = time.time()        \n",
    "        for Ki in k_v_candidates.keys():\n",
    "            if progress_bar % 50 == 0:\n",
    "                print('Number of faults: %2d, Candidate No: %7d / %7d - Experiment No: %3d / %3d' %\\\n",
    "                     (number_of_faults, progress_bar, number_of_candidates, (nxp + 1), number_of_independent_experiments))\n",
    "            counter_Ki_Vi[Ki] = 0\n",
    "            Ki_matrix = [[Ki[i + 4*j] for i in range(4)] for j in range(4)]\n",
    "            aes_instance.derive_round_keys_from_last_round_key(Ki_matrix)\n",
    "            for this_cipher in known_ciphertexts:\n",
    "                counter_Ki_Vi[Ki] += aes_instance.decrypt_and_count1(this_cipher, k_v_candidates[Ki])\n",
    "            progress_bar += 1\n",
    "        max_cnt = max(counter_Ki_Vi.values())\n",
    "        derived_keys = [K for K in counter_Ki_Vi.keys() if counter_Ki_Vi[K] == max_cnt]\n",
    "        elapsed_time = time.time() - start_time\n",
    "        print(\"Time used by key recovery: %0.2f Seconds\" % elapsed_time)\n",
    "        print(\"------------- KEY RECOVERY WAS FINISHED -------------\")\n",
    "        number_of_derived_keys.append(len(derived_keys))\n",
    "        cnt_of_correct_keys.append(max_cnt)\n",
    "        cnts_of_wrong_keys = [cnt for cnt in counter_Ki_Vi.values() if cnt != max_cnt]\n",
    "        all_cnt_of_wrong_keys.extend(cnts_of_wrong_keys)\n",
    "        true_and_retrievd_last_round_keys[derived_keys[0]] = last_round_key\n",
    "    output_dict = dict()\n",
    "    output_dict[\"cnt_of_correct_keys\"] = cnt_of_correct_keys\n",
    "    output_dict[\"all_cnt_of_wrong_keys\"] = all_cnt_of_wrong_keys\n",
    "    output_dict[\"avg_number_of_derived_keys\"] = mean(number_of_derived_keys)\n",
    "    output_dict[\"avg_cnt_of_correct_keys\"] = mean(cnt_of_correct_keys)\n",
    "    output_dict[\"avg_cnt_of_wrong_keys\"] = mean(all_cnt_of_wrong_keys)\n",
    "    output_dict[\"variance_cnt_of_correct_keys\"] = variance(cnt_of_correct_keys)\n",
    "    output_dict[\"variance_cnt_of_wrong_keys\"] = variance(all_cnt_of_wrong_keys)\n",
    "    return true_and_retrievd_last_round_keys, output_dict\n",
    "    "
   ]
  },
  {
   "cell_type": "code",
   "execution_count": 13,
   "metadata": {},
   "outputs": [
    {
     "name": "stdout",
     "output_type": "stream",
     "text": [
      "Number of faults: 5, Number of known ciphertexts: 1533, Number of key candidates: 256\n",
      "----------------- START KEY RECOVERY -----------------\n",
      "Number of faults:  5, Candidate No:       0 /     256 - Experiment No:   1 /   2\n",
      "Number of faults:  5, Candidate No:      50 /     256 - Experiment No:   1 /   2\n",
      "Number of faults:  5, Candidate No:     100 /     256 - Experiment No:   1 /   2\n",
      "Number of faults:  5, Candidate No:     150 /     256 - Experiment No:   1 /   2\n",
      "Number of faults:  5, Candidate No:     200 /     256 - Experiment No:   1 /   2\n",
      "Number of faults:  5, Candidate No:     250 /     256 - Experiment No:   1 /   2\n",
      "Time used by key recovery: 22.41 Seconds\n",
      "------------- KEY RECOVERY WAS FINISHED -------------\n",
      "Number of faults: 5, Number of known ciphertexts: 1533, Number of key candidates: 256\n",
      "----------------- START KEY RECOVERY -----------------\n",
      "Number of faults:  5, Candidate No:       0 /     256 - Experiment No:   2 /   2\n",
      "Number of faults:  5, Candidate No:      50 /     256 - Experiment No:   2 /   2\n",
      "Number of faults:  5, Candidate No:     100 /     256 - Experiment No:   2 /   2\n",
      "Number of faults:  5, Candidate No:     150 /     256 - Experiment No:   2 /   2\n",
      "Number of faults:  5, Candidate No:     200 /     256 - Experiment No:   2 /   2\n",
      "Number of faults:  5, Candidate No:     250 /     256 - Experiment No:   2 /   2\n",
      "Time used by key recovery: 19.37 Seconds\n",
      "------------- KEY RECOVERY WAS FINISHED -------------\n"
     ]
    }
   ],
   "source": [
    "true_and_retrievd_last_round_keys, output_dict =\\\n",
    "     compute_avg_cnt_for_wrong_and_correct_keys(number_of_faults=5, number_of_independent_experiments=2)"
   ]
  },
  {
   "cell_type": "code",
   "execution_count": 14,
   "metadata": {},
   "outputs": [
    {
     "data": {
      "text/plain": [
       "(1, 7984, 3896.927450980392, 6962, 10744.012408028044)"
      ]
     },
     "execution_count": 14,
     "metadata": {},
     "output_type": "execute_result"
    }
   ],
   "source": [
    "output_dict[\"avg_number_of_derived_keys\"], \\\n",
    "output_dict[\"avg_cnt_of_correct_keys\"], \\\n",
    "output_dict[\"avg_cnt_of_wrong_keys\"], \\\n",
    "output_dict[\"variance_cnt_of_correct_keys\"], \\\n",
    "output_dict[\"variance_cnt_of_wrong_keys\"]"
   ]
  },
  {
   "cell_type": "code",
   "execution_count": 18,
   "metadata": {},
   "outputs": [],
   "source": [
    "# if __name__ == '__main__':\n",
    "#     print('Now in the main code. Process name is:', __name__)\n",
    "#     number_of_faults_vector = [2]#list(range(3, 17)) + [32, 48, 64]\n",
    "#     number_of_independent_experiments = 10\n",
    "#     flag = 'read_data'\n",
    "#     if flag == 'compute_data':\n",
    "#         with Pool(len(number_of_faults_vector)) as pool:\n",
    "#             arguments = [(nf, number_of_independent_experiments) for nf in number_of_faults_vector]\n",
    "#             results = pool.starmap(compute_avg_cnt_for_wrong_and_correct_keys, arguments)\n",
    "#         with open('output', 'wb') as f:\n",
    "#             pickle.dump(results, f)\n",
    "#     elif flag == 'read_data':\n",
    "#         with open('output64', 'rb') as f:\n",
    "#             results = pickle.load(f)\n",
    "    "
   ]
  },
  {
   "cell_type": "code",
   "execution_count": 19,
   "metadata": {},
   "outputs": [],
   "source": [
    "# ks = list(range(3, 17)) + [32, 48, 64]\n",
    "# vs = list(range(len(ks)))\n",
    "# indice = dict(zip(ks, vs))\n",
    "# n = 64\n",
    "# results[indice[n]][1][\"avg_number_of_derived_keys\"], \\\n",
    "# results[indice[n]][1][\"avg_cnt_of_correct_keys\"], \\\n",
    "# results[indice[n]][1][\"avg_cnt_of_wrong_keys\"], \\\n",
    "# results[indice[n]][1][\"variance_cnt_of_correct_keys\"], \\\n",
    "# results[indice[n]][1][\"variance_cnt_of_wrong_keys\"]"
   ]
  }
 ],
 "metadata": {
  "interpreter": {
   "hash": "63fd5069d213b44bf678585dea6b12cceca9941eaf7f819626cde1f2670de90d"
  },
  "kernelspec": {
   "display_name": "Python 3 (ipykernel)",
   "language": "python",
   "name": "python3"
  },
  "language_info": {
   "codemirror_mode": {
    "name": "ipython",
    "version": 3
   },
   "file_extension": ".py",
   "mimetype": "text/x-python",
   "name": "python",
   "nbconvert_exporter": "python",
   "pygments_lexer": "ipython3",
   "version": "3.8.10"
  }
 },
 "nbformat": 4,
 "nbformat_minor": 2
}
