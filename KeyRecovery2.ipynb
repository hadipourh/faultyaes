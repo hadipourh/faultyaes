{
 "cells": [
  {
   "cell_type": "markdown",
   "metadata": {},
   "source": [
    "# Multiple Persisten Faults Attack - Key Recovery Based on V and V*"
   ]
  },
  {
   "cell_type": "markdown",
   "metadata": {},
   "source": [
    "## License\n",
    "\n",
    "```\n",
    "Copyright (C) 2021  Hosein Hadipour\n",
    "This program is free software: you can redistribute it and/or modify\n",
    "it under the terms of the GNU General Public License as published by\n",
    "the Free Software Foundation, either version 3 of the License, or\n",
    "(at your option) any later version.\n",
    "This program is distributed in the hope that it will be useful,\n",
    "but WITHOUT ANY WARRANTY; without even the implied warranty of\n",
    "MERCHANTABILITY or FITNESS FOR A PARTICULAR PURPOSE.  See the\n",
    "GNU General Public License for more details.\n",
    "You should have received a copy of the GNU General Public License\n",
    "along with this program.  If not, see <http://www.gnu.org/licenses/>.\n",
    "```"
   ]
  },
  {
   "cell_type": "markdown",
   "metadata": {},
   "source": [
    "## Include Faulty AES and Other Required Tools"
   ]
  },
  {
   "cell_type": "code",
   "execution_count": 1,
   "metadata": {},
   "outputs": [],
   "source": [
    "%load_ext autoreload\n",
    "%autoreload 2\n",
    "from faultyaes import *\n",
    "import numpy as np\n",
    "import random\n",
    "import itertools\n",
    "import time"
   ]
  },
  {
   "cell_type": "markdown",
   "metadata": {},
   "source": [
    "## Generate Candidates for delta"
   ]
  },
  {
   "cell_type": "markdown",
   "metadata": {},
   "source": [
    "### Find deltaj = skR0 + skRj Assuming that Enough Number of Known Ciphertexts Are Available"
   ]
  },
  {
   "cell_type": "code",
   "execution_count": 2,
   "metadata": {},
   "outputs": [],
   "source": [
    "def find_delta_candidates(D0, Dj, number_of_faults):\n",
    "    delta_counters = dict()\n",
    "    for ell in range(number_of_faults):\n",
    "        alpha_l = D0[0] ^ Dj[ell]\n",
    "        delta_counters[alpha_l] = 1\n",
    "        Dtemp = set(Dj).difference(set([Dj[ell]]))\n",
    "        for i in range(1, number_of_faults):\n",
    "            E = D0[i] ^ alpha_l\n",
    "            if E in Dtemp:\n",
    "                delta_counters[alpha_l] += 1\n",
    "                Dtemp = Dtemp.difference(set([E]))    \n",
    "    candidates = [delta for delta in delta_counters.keys() if delta_counters[delta] == number_of_faults]\n",
    "    return candidates"
   ]
  },
  {
   "cell_type": "code",
   "execution_count": 3,
   "metadata": {},
   "outputs": [],
   "source": [
    "def find_D0_star(number_of_faults, D, D_star_candidates, last_round_key):\n",
    "    D0_star = D_star_candidates[0]\n",
    "    counter_of_values = dict()\n",
    "    for x in range(256):\n",
    "        counter_of_values[x] = 0\n",
    "    for j in range(1, 16):\n",
    "        deltaj = find_delta_candidates(D[0], D[j], number_of_faults=number_of_faults)\n",
    "        if len(deltaj) != 1:\n",
    "            print(\"Size of deltaj%d = %d!\"% (j, len(deltaj)))\n",
    "            return\n",
    "        deltaj = deltaj[0]\n",
    "        Dpj = [d ^ deltaj for d in D_star_candidates[j]]\n",
    "        for x in Dpj:\n",
    "            counter_of_values[x] += 1\n",
    "        D0_star = [d for d in D0_star if d in  Dpj]        \n",
    "    output_temp = {k: v for k, v in \\\n",
    "                sorted(counter_of_values.items(), key=lambda item: item[1], reverse=True)}\n",
    "    output = list(output_temp.keys())[0:number_of_faults]\n",
    "    for candidate in output:\n",
    "        print(\"candidate: %d, counter: %d\" % (candidate, output_temp[candidate]))\n",
    "    return output"
   ]
  },
  {
   "cell_type": "code",
   "execution_count": 4,
   "metadata": {},
   "outputs": [],
   "source": [
    "def generate_input_data_for_key_recovery(number_of_faults, number_of_known_ciphertexts):\n",
    "    ##################################################################\n",
    "    # Initialize a faulty AES for this experiment\n",
    "    byte_observation_counter = [[dict() for _ in range(4)] for _ in range(4)]\n",
    "    for col in range(4)  :\n",
    "        for row in range(4):\n",
    "            for x in range(256):\n",
    "                byte_observation_counter[col][row][x] = 0\n",
    "    master_key = random.getrandbits(128)\n",
    "    faulty_aes = AES(master_key)\n",
    "    last_round_key = faulty_aes.round_keys[4*10:4*11]\n",
    "    last_round_key = [last_round_key[j][i] for j in range(4) for i in range(4)]\n",
    "    faulty_aes.apply_fault(number_of_faults)\n",
    "    fault_mapping = faulty_aes.dictionary_of_replacement\n",
    "    known_ciphertexts = []\n",
    "    for this_query in range(number_of_known_ciphertexts):\n",
    "        # Choose a plaintext at random\n",
    "        plaintext = random.getrandbits(128)\n",
    "        ciphertext = faulty_aes.encrypt(plaintext)\n",
    "        known_ciphertexts.append(ciphertext)\n",
    "        ciphertext = text2matrix(ciphertext)\n",
    "        for col in range(4):\n",
    "            for row in range(4):\n",
    "                byte_observation_counter[col][row][ciphertext[col][row]] += 1\n",
    "    ##################################################################\n",
    "    D = [0 for _ in range(16)]\n",
    "    D_star = [0 for _ in range(16)]\n",
    "    for col in range(4):\n",
    "        for row in range(4):\n",
    "            j = 4*col + row\n",
    "            temp = {k: v for k, v in \\\n",
    "                sorted(byte_observation_counter[col][row].items(), key=lambda item: item[1], reverse=True)}\n",
    "            temp = list(temp.keys())\n",
    "            #######################################XXXXXXXXXXXXXXXXXXXX###############################\n",
    "            D_star[j] = temp[0:2*number_of_faults]            \n",
    "            D[j] = [x for x in range(256) if byte_observation_counter[col][row][x] == 0]\n",
    "    delta_candidates = []\n",
    "    for position in range(16):\n",
    "        deltaj = find_delta_candidates(D[0], D[position], number_of_faults=number_of_faults)\n",
    "        delta_candidates.append(deltaj)\n",
    "    all_possible_delta_vectors = list(itertools.product(*delta_candidates))\n",
    "    k_v_candidates = dict()\n",
    "    print(\"Number of delta candidates: %d\" % len(all_possible_delta_vectors))\n",
    "    for sk0 in range(0, 256):\n",
    "        for delta_vector in all_possible_delta_vectors:\n",
    "            k_v_candidates[tuple([sk0 ^ delta for delta in delta_vector])] = \\\n",
    "                             [[sk0 ^ d for d in D[0]], [sk0 ^ last_round_key[0] ^ d for d in fault_mapping.values()], 1]\n",
    "    return known_ciphertexts, k_v_candidates, last_round_key, fault_mapping, D, D_star"
   ]
  },
  {
   "cell_type": "markdown",
   "metadata": {},
   "source": [
    "### Check the Quality of Our Algorithm for Dtecting D0*"
   ]
  },
  {
   "cell_type": "code",
   "execution_count": 5,
   "metadata": {},
   "outputs": [
    {
     "name": "stdout",
     "output_type": "stream",
     "text": [
      "Number of delta candidates: 1\n",
      "candidate: 8, counter: 14\n",
      "candidate: 124, counter: 14\n",
      "candidate: 159, counter: 14\n",
      "candidate: 2, counter: 11\n",
      "D0_star: [8, 124, 159, 2]\n",
      "True fault mapping: {77: 126, 252: 116, 237: 0, 6: 227}\n"
     ]
    }
   ],
   "source": [
    "nf = 4\n",
    "m = 2**8 - nf\n",
    "number_of_ciphertexts = 2*int(np.ceil(m*harmonic_number(m)))\n",
    "ciphertexts, k_candidates, true_last_round_key, fault_mapping, DD, DD_star =\\\n",
    "     generate_input_data_for_key_recovery(number_of_faults=nf, number_of_known_ciphertexts=number_of_ciphertexts)\n",
    "D0_star = find_D0_star(number_of_faults=nf, D=DD, D_star_candidates=DD_star, last_round_key=true_last_round_key)\n",
    "print(\"D0_star: %s\" % D0_star)\n",
    "print(\"True fault mapping: %s\" % fault_mapping)"
   ]
  },
  {
   "cell_type": "markdown",
   "metadata": {},
   "source": [
    "### Provide Required Data for Key recovery"
   ]
  },
  {
   "cell_type": "code",
   "execution_count": 6,
   "metadata": {},
   "outputs": [],
   "source": [
    "def compute_avg_cnt_for_wrong_and_correct_keys(number_of_faults=4, number_of_independent_experiments=100):\n",
    "    m = 256 - number_of_faults\n",
    "    number_of_known_ciphertexts = 2*int(np.ceil(m*harmonic_number(m)))\n",
    "    number_of_derived_keys = []\n",
    "    cnt_of_correct_keys = []\n",
    "    all_cnt_of_wrong_keys = []\n",
    "    output_dict = dict()\n",
    "    true_and_retrievd_last_round_keys = dict()\n",
    "    for nxp in range(number_of_independent_experiments):\n",
    "        D = [[]]\n",
    "        known_ciphertexts, k_v_candidates, last_round_key, fault_mapping, D, D_star\\\n",
    "                 = generate_input_data_for_key_recovery(number_of_faults=number_of_faults, number_of_known_ciphertexts=number_of_known_ciphertexts)\n",
    "        while len(D[0]) != number_of_faults or len(k_v_candidates) == 0:\n",
    "            known_ciphertexts, k_v_candidates, last_round_key, fault_mapping, D, D_star\\\n",
    "                 = generate_input_data_for_key_recovery(number_of_faults=number_of_faults, number_of_known_ciphertexts=number_of_known_ciphertexts)\n",
    "        aes_instance = AES(0)\n",
    "        aes_instance.apply_fault(number_of_faults=number_of_faults, fault_mapping=fault_mapping)\n",
    "        number_of_candidates = len(k_v_candidates.keys())\n",
    "        print(\"Number of faults: %d, Number of known ciphertexts: %d, Number of key candidates: %d\" %\\\n",
    "             (number_of_faults, len(known_ciphertexts), number_of_candidates))\n",
    "        print(\"----------------- START KEY RECOVERY -----------------\")\n",
    "        progress_bar = 0\n",
    "        start_time = time.time()\n",
    "        for Ki in k_v_candidates.keys():\n",
    "            if progress_bar % 50 == 0:\n",
    "                print('Number of faults: %2d, Candidate No: %7d / %7d - Experiment No: %3d / %3d' %\\\n",
    "                     (number_of_faults, progress_bar, number_of_candidates, nxp, number_of_independent_experiments))\n",
    "            Ki_matrix = [[Ki[i + 4*j] for i in range(4)] for j in range(4)]\n",
    "            aes_instance.derive_round_keys_from_last_round_key(Ki_matrix)\n",
    "            for cipher_count in range(256):\n",
    "                this_cipher = known_ciphertexts[cipher_count]\n",
    "                k_v_candidates[Ki][2] = aes_instance.decrypt_and_count2(this_cipher, k_v_candidates[Ki][0], k_v_candidates[Ki][1])\n",
    "                if k_v_candidates[Ki][2] == 0:\n",
    "                    break\n",
    "            progress_bar += 1\n",
    "        derived_keys = [K for K in k_v_candidates.keys() if k_v_candidates[K][2] == 1]\n",
    "        print(\"size D: %d\" % len(D[0]))\n",
    "        elapsed_time = time.time() - start_time\n",
    "        print(\"Time used by key recovery: %0.2f Seconds\" % elapsed_time)\n",
    "        print(\"------------- KEY RECOVERY WAS FINISHED -------------\")\n",
    "        number_of_derived_keys.append(len(derived_keys))\n",
    "        true_and_retrievd_last_round_keys[tuple(last_round_key)] = derived_keys\n",
    "    return true_and_retrievd_last_round_keys, number_of_derived_keys"
   ]
  },
  {
   "cell_type": "markdown",
   "metadata": {},
   "source": [
    "### Key Recovery"
   ]
  },
  {
   "cell_type": "code",
   "execution_count": 7,
   "metadata": {
    "scrolled": true
   },
   "outputs": [
    {
     "name": "stdout",
     "output_type": "stream",
     "text": [
      "Number of delta candidates: 1\n",
      "Number of faults: 4, Number of known ciphertexts: 3080, Number of key candidates: 256\n",
      "----------------- START KEY RECOVERY -----------------\n",
      "Number of faults:  4, Candidate No:       0 /     256 - Experiment No:   0 /   1\n",
      "Number of faults:  4, Candidate No:      50 /     256 - Experiment No:   0 /   1\n",
      "Number of faults:  4, Candidate No:     100 /     256 - Experiment No:   0 /   1\n",
      "Number of faults:  4, Candidate No:     150 /     256 - Experiment No:   0 /   1\n",
      "Number of faults:  4, Candidate No:     200 /     256 - Experiment No:   0 /   1\n",
      "Number of faults:  4, Candidate No:     250 /     256 - Experiment No:   0 /   1\n",
      "size D: 4\n",
      "Time used by key recovery: 0.09 Seconds\n",
      "------------- KEY RECOVERY WAS FINISHED -------------\n",
      "[1]\n",
      "{(239, 107, 167, 155, 36, 167, 209, 205, 88, 227, 243, 23, 205, 46, 114, 251): [(239, 107, 167, 155, 36, 167, 209, 205, 88, 227, 243, 23, 205, 46, 114, 251)]}\n"
     ]
    }
   ],
   "source": [
    "true_and_retrievd_last_round_keys, number_of_derived_keys =\\\n",
    "     compute_avg_cnt_for_wrong_and_correct_keys(number_of_faults=4, number_of_independent_experiments=1)\n",
    "print(number_of_derived_keys)\n",
    "print(true_and_retrievd_last_round_keys)"
   ]
  }
 ],
 "metadata": {
  "interpreter": {
   "hash": "63fd5069d213b44bf678585dea6b12cceca9941eaf7f819626cde1f2670de90d"
  },
  "kernelspec": {
   "display_name": "Python 3 (ipykernel)",
   "language": "python",
   "name": "python3"
  },
  "language_info": {
   "codemirror_mode": {
    "name": "ipython",
    "version": 3
   },
   "file_extension": ".py",
   "mimetype": "text/x-python",
   "name": "python",
   "nbconvert_exporter": "python",
   "pygments_lexer": "ipython3",
   "version": "3.8.10"
  }
 },
 "nbformat": 4,
 "nbformat_minor": 2
}
